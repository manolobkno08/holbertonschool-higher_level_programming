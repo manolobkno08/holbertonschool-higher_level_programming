{
 "cells": [
  {
   "cell_type": "code",
   "execution_count": 1,
   "metadata": {},
   "outputs": [
    {
     "name": "stdout",
     "output_type": "stream",
     "text": [
      "[Rectangle] (1) 10/10 - 10/10\n",
      "[Rectangle] (89) 10/10 - 10/10\n",
      "[Rectangle] (89) 10/10 - 2/10\n",
      "[Rectangle] (89) 10/10 - 2/3\n",
      "[Rectangle] (89) 4/10 - 2/3\n",
      "[Rectangle] (89) 4/5 - 2/3\n"
     ]
    }
   ],
   "source": [
    "from models.rectangle import Rectangle\n",
    "\n",
    "if __name__ == \"__main__\":\n",
    "\n",
    "    r1 = Rectangle(10, 10, 10, 10)\n",
    "    print(r1)\n",
    "\n",
    "    r1.update(89)\n",
    "    print(r1)\n",
    "\n",
    "    r1.update(89, 2)\n",
    "    print(r1)\n",
    "\n",
    "    r1.update(89, 2, 3)\n",
    "    print(r1)\n",
    "\n",
    "    r1.update(89, 2, 3, 4)\n",
    "    print(r1)\n",
    "\n",
    "    r1.update(89, 2, 3, 4, 5)\n",
    "    print(r1)"
   ]
  },
  {
   "cell_type": "code",
   "execution_count": 1,
   "metadata": {},
   "outputs": [
    {
     "name": "stdout",
     "output_type": "stream",
     "text": [
      "[Rectangle] (1) 10/10 - 10/10\n",
      "[Rectangle] (1) 10/10 - 10/1\n",
      "[Rectangle] (1) 2/10 - 1/1\n",
      "[Rectangle] (89) 3/1 - 2/1\n",
      "[Rectangle] (89) 1/3 - 4/2\n"
     ]
    }
   ],
   "source": [
    "\"\"\" 8-main \"\"\"\n",
    "from models.rectangle import Rectangle\n",
    "\n",
    "if __name__ == \"__main__\":\n",
    "\n",
    "    r1 = Rectangle(10, 10, 10, 10)\n",
    "    print(r1)\n",
    "\n",
    "    r1.update(height=1)\n",
    "    print(r1)\n",
    "\n",
    "    r1.update(width=1, x=2)\n",
    "    print(r1)\n",
    "\n",
    "    r1.update(y=1, width=2, x=3, id=89)\n",
    "    print(r1)\n",
    "\n",
    "    r1.update(x=1, height=2, y=3, width=4)\n",
    "    print(r1)"
   ]
  },
  {
   "cell_type": "code",
   "execution_count": 1,
   "metadata": {},
   "outputs": [
    {
     "name": "stdout",
     "output_type": "stream",
     "text": [
      "[Square] (1) 0/0 - 5\n",
      "25\n",
      "#####\n",
      "#####\n",
      "#####\n",
      "#####\n",
      "#####\n",
      "---\n",
      "[Square] (2) 2/0 - 2\n",
      "4\n",
      "  ##\n",
      "  ##\n",
      "---\n",
      "[Square] (3) 1/3 - 3\n",
      "9\n",
      "\n",
      "\n",
      "\n",
      " ###\n",
      " ###\n",
      " ###\n"
     ]
    }
   ],
   "source": [
    "\"\"\" 9-main \"\"\"\n",
    "from models.square import Square\n",
    "\n",
    "if __name__ == \"__main__\":\n",
    "\n",
    "    s1 = Square(5)\n",
    "    print(s1)\n",
    "    print(s1.area())\n",
    "    s1.display()\n",
    "\n",
    "    print(\"---\")\n",
    "\n",
    "    s2 = Square(2, 2)\n",
    "    print(s2)\n",
    "    print(s2.area())\n",
    "    s2.display()\n",
    "\n",
    "    print(\"---\")\n",
    "\n",
    "    s3 = Square(3, 1, 3)\n",
    "    print(s3)\n",
    "    print(s3.area())\n",
    "    s3.display()"
   ]
  },
  {
   "cell_type": "code",
   "execution_count": 1,
   "metadata": {},
   "outputs": [
    {
     "name": "stdout",
     "output_type": "stream",
     "text": [
      "[Square] (1) 0/0 - 5\n",
      "5\n",
      "[Square] (1) 0/0 - 10\n",
      "[TypeError] width must be an integer\n"
     ]
    }
   ],
   "source": [
    "\"\"\" 10-main \"\"\"\n",
    "from models.square import Square\n",
    "\n",
    "if __name__ == \"__main__\":\n",
    "\n",
    "    s1 = Square(5)\n",
    "    print(s1)\n",
    "    print(s1.size)\n",
    "    s1.size = 10\n",
    "    print(s1)\n",
    "\n",
    "    try:\n",
    "        s1.size = \"9\"\n",
    "    except Exception as e:\n",
    "        print(\"[{}] {}\".format(e.__class__.__name__, e))"
   ]
  },
  {
   "cell_type": "code",
   "execution_count": 1,
   "metadata": {},
   "outputs": [
    {
     "name": "stdout",
     "output_type": "stream",
     "text": [
      "[Square] (1) 0/0 - 5\n",
      "[Square] (10) 0/0 - 5\n",
      "[Square] (1) 0/0 - 2\n",
      "[Square] (1) 3/0 - 2\n",
      "[Square] (1) 3/4 - 2\n",
      "[Square] (1) 12/4 - 2\n",
      "[Square] (1) 12/1 - 7\n",
      "[Square] (89) 12/1 - 7\n"
     ]
    }
   ],
   "source": [
    "\"\"\" 11-main \"\"\"\n",
    "from models.square import Square\n",
    "\n",
    "if __name__ == \"__main__\":\n",
    "\n",
    "    s1 = Square(5)\n",
    "    print(s1)\n",
    "\n",
    "    s1.update(10)\n",
    "    print(s1)\n",
    "\n",
    "    s1.update(1, 2)\n",
    "    print(s1)\n",
    "\n",
    "    s1.update(1, 2, 3)\n",
    "    print(s1)\n",
    "\n",
    "    s1.update(1, 2, 3, 4)\n",
    "    print(s1)\n",
    "\n",
    "    s1.update(x=12)\n",
    "    print(s1)\n",
    "\n",
    "    s1.update(size=7, y=1)\n",
    "    print(s1)\n",
    "\n",
    "    s1.update(size=7, id=89, y=1)\n",
    "    print(s1)"
   ]
  },
  {
   "cell_type": "code",
   "execution_count": 1,
   "metadata": {},
   "outputs": [
    {
     "name": "stdout",
     "output_type": "stream",
     "text": [
      "[Rectangle] (1) 1/9 - 10/2\n",
      "{'x': 1, 'y': 9, 'id': 1, 'height': 2, 'width': 10}\n",
      "<class 'dict'>\n",
      "[Rectangle] (2) 0/0 - 1/1\n",
      "[Rectangle] (1) 1/9 - 10/2\n",
      "False\n"
     ]
    }
   ],
   "source": [
    "\"\"\" 12-main \"\"\"\n",
    "from models.rectangle import Rectangle\n",
    "\n",
    "if __name__ == \"__main__\":\n",
    "\n",
    "    r1 = Rectangle(10, 2, 1, 9)\n",
    "    print(r1)\n",
    "    r1_dictionary = r1.to_dictionary()\n",
    "    print(r1_dictionary)\n",
    "    print(type(r1_dictionary))\n",
    "\n",
    "    r2 = Rectangle(1, 1)\n",
    "    print(r2)\n",
    "    r2.update(**r1_dictionary)\n",
    "    print(r2)\n",
    "    print(r1 == r2)"
   ]
  },
  {
   "cell_type": "code",
   "execution_count": 1,
   "metadata": {},
   "outputs": [
    {
     "name": "stdout",
     "output_type": "stream",
     "text": [
      "[Square] (1) 2/1 - 10\n",
      "{'id': 1, 'x': 2, 'size': 10, 'y': 1}\n",
      "<class 'dict'>\n",
      "[Square] (2) 1/0 - 1\n",
      "[Square] (1) 2/1 - 10\n",
      "False\n"
     ]
    }
   ],
   "source": [
    "\"\"\" 13-main \"\"\"\n",
    "from models.square import Square\n",
    "\n",
    "if __name__ == \"__main__\":\n",
    "\n",
    "    s1 = Square(10, 2, 1)\n",
    "    print(s1)\n",
    "    s1_dictionary = s1.to_dictionary()\n",
    "    print(s1_dictionary)\n",
    "    print(type(s1_dictionary))\n",
    "\n",
    "    s2 = Square(1, 1)\n",
    "    print(s2)\n",
    "    s2.update(**s1_dictionary)\n",
    "    print(s2)\n",
    "    print(s1 == s2)"
   ]
  },
  {
   "cell_type": "code",
   "execution_count": 1,
   "metadata": {},
   "outputs": [
    {
     "name": "stdout",
     "output_type": "stream",
     "text": [
      "{'x': 2, 'y': 8, 'id': 1, 'height': 7, 'width': 10}\n",
      "<class 'dict'>\n",
      "[{\"x\": 2, \"y\": 8, \"id\": 1, \"height\": 7, \"width\": 10}]\n",
      "<class 'str'>\n"
     ]
    }
   ],
   "source": [
    "\"\"\" 14-main \"\"\"\n",
    "from models.base import Base\n",
    "from models.rectangle import Rectangle\n",
    "\n",
    "if __name__ == \"__main__\":\n",
    "\n",
    "    r1 = Rectangle(10, 7, 2, 8)\n",
    "    dictionary = r1.to_dictionary()\n",
    "    json_dictionary = Base.to_json_string([dictionary])\n",
    "    print(dictionary)\n",
    "    print(type(dictionary))\n",
    "    print(json_dictionary)\n",
    "    print(type(json_dictionary))"
   ]
  },
  {
   "cell_type": "code",
   "execution_count": 1,
   "metadata": {},
   "outputs": [
    {
     "name": "stdout",
     "output_type": "stream",
     "text": [
      "[{\"x\": 2, \"y\": 8, \"id\": 1, \"height\": 7, \"width\": 10}, {\"x\": 0, \"y\": 0, \"id\": 2, \"height\": 4, \"width\": 2}]\n"
     ]
    }
   ],
   "source": [
    "\"\"\" 15-main \"\"\"\n",
    "from models.rectangle import Rectangle\n",
    "\n",
    "if __name__ == \"__main__\":\n",
    "\n",
    "    r1 = Rectangle(10, 7, 2, 8)\n",
    "    r2 = Rectangle(2, 4)\n",
    "    Rectangle.save_to_file([r1, r2])\n",
    "\n",
    "    with open(\"Rectangle.json\", \"r\") as file:\n",
    "        print(file.read())"
   ]
  },
  {
   "cell_type": "code",
   "execution_count": 1,
   "metadata": {},
   "outputs": [
    {
     "name": "stdout",
     "output_type": "stream",
     "text": [
      "[<class 'list'>] [{'id': 89, 'width': 10, 'height': 4}, {'id': 7, 'width': 1, 'height': 7}]\n",
      "[<class 'str'>] [{\"id\": 89, \"width\": 10, \"height\": 4}, {\"id\": 7, \"width\": 1, \"height\": 7}]\n",
      "[<class 'list'>] [{'id': 89, 'width': 10, 'height': 4}, {'id': 7, 'width': 1, 'height': 7}]\n"
     ]
    }
   ],
   "source": [
    "\"\"\" 16-main \"\"\"\n",
    "from models.rectangle import Rectangle\n",
    "\n",
    "if __name__ == \"__main__\":\n",
    "\n",
    "    list_input = [\n",
    "        {'id': 89, 'width': 10, 'height': 4}, \n",
    "        {'id': 7, 'width': 1, 'height': 7}\n",
    "    ]\n",
    "    json_list_input = Rectangle.to_json_string(list_input)\n",
    "    list_output = Rectangle.from_json_string(json_list_input)\n",
    "    print(\"[{}] {}\".format(type(list_input), list_input))\n",
    "    print(\"[{}] {}\".format(type(json_list_input), json_list_input))\n",
    "    print(\"[{}] {}\".format(type(list_output), list_output))"
   ]
  },
  {
   "cell_type": "code",
   "execution_count": 1,
   "metadata": {},
   "outputs": [
    {
     "name": "stdout",
     "output_type": "stream",
     "text": [
      "[Rectangle] (1) 1/0 - 3/5\n",
      "[Rectangle] (1) 1/0 - 3/5\n",
      "False\n",
      "False\n"
     ]
    }
   ],
   "source": [
    "\"\"\" 17-main \"\"\"\n",
    "from models.rectangle import Rectangle\n",
    "\n",
    "if __name__ == \"__main__\":\n",
    "\n",
    "    r1 = Rectangle(3, 5, 1)\n",
    "    r1_dictionary = r1.to_dictionary()\n",
    "    r2 = Rectangle.create(**r1_dictionary)\n",
    "    print(r1)\n",
    "    print(r2)\n",
    "    print(r1 is r2)\n",
    "    print(r1 == r2)"
   ]
  },
  {
   "cell_type": "code",
   "execution_count": 1,
   "metadata": {},
   "outputs": [
    {
     "name": "stdout",
     "output_type": "stream",
     "text": [
      "[139955274129216] [Rectangle] (1) 2/8 - 10/7\n",
      "[139955274100896] [Rectangle] (2) 0/0 - 2/4\n",
      "---\n",
      "[139955274103344] [Rectangle] (1) 2/8 - 10/7\n",
      "[139955274103440] [Rectangle] (2) 0/0 - 2/4\n",
      "---\n",
      "---\n",
      "[139955274104352] [Square] (5) 0/0 - 5\n",
      "[139955274104448] [Square] (6) 9/1 - 7\n",
      "---\n",
      "[139955274104304] [Square] (5) 0/0 - 5\n",
      "[139955274104064] [Square] (6) 9/1 - 7\n"
     ]
    }
   ],
   "source": [
    "\"\"\" 18-main \"\"\"\n",
    "from models.rectangle import Rectangle\n",
    "from models.square import Square\n",
    "\n",
    "if __name__ == \"__main__\":\n",
    "\n",
    "    r1 = Rectangle(10, 7, 2, 8)\n",
    "    r2 = Rectangle(2, 4)\n",
    "    list_rectangles_input = [r1, r2]\n",
    "\n",
    "    Rectangle.save_to_file(list_rectangles_input)\n",
    "\n",
    "    list_rectangles_output = Rectangle.load_from_file()\n",
    "\n",
    "    for rect in list_rectangles_input:\n",
    "        print(\"[{}] {}\".format(id(rect), rect))\n",
    "\n",
    "    print(\"---\")\n",
    "\n",
    "    for rect in list_rectangles_output:\n",
    "        print(\"[{}] {}\".format(id(rect), rect))\n",
    "\n",
    "    print(\"---\")\n",
    "    print(\"---\")\n",
    "\n",
    "    s1 = Square(5)\n",
    "    s2 = Square(7, 9, 1)\n",
    "    list_squares_input = [s1, s2]\n",
    "\n",
    "    Square.save_to_file(list_squares_input)\n",
    "\n",
    "    list_squares_output = Square.load_from_file()\n",
    "\n",
    "    for square in list_squares_input:\n",
    "        print(\"[{}] {}\".format(id(square), square))\n",
    "\n",
    "    print(\"---\")\n",
    "\n",
    "    for square in list_squares_output:\n",
    "        print(\"[{}] {}\".format(id(square), square))"
   ]
  }
 ],
 "metadata": {
  "interpreter": {
   "hash": "916dbcbb3f70747c44a77c7bcd40155683ae19c65e1c03b4aa3499c5328201f1"
  },
  "kernelspec": {
   "display_name": "Python 3.8.10 64-bit",
   "name": "python3"
  },
  "language_info": {
   "codemirror_mode": {
    "name": "ipython",
    "version": 3
   },
   "file_extension": ".py",
   "mimetype": "text/x-python",
   "name": "python",
   "nbconvert_exporter": "python",
   "pygments_lexer": "ipython3",
   "version": "3.8.10"
  },
  "orig_nbformat": 4
 },
 "nbformat": 4,
 "nbformat_minor": 2
}
