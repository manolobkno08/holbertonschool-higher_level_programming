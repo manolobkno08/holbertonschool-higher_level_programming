{
 "cells": [
  {
   "cell_type": "code",
   "execution_count": 1,
   "metadata": {},
   "outputs": [
    {
     "name": "stdout",
     "output_type": "stream",
     "text": [
      "[Rectangle] (1) 10/10 - 10/10\n",
      "[Rectangle] (89) 10/10 - 10/10\n",
      "[Rectangle] (89) 10/10 - 2/10\n",
      "[Rectangle] (89) 10/10 - 2/3\n",
      "[Rectangle] (89) 4/10 - 2/3\n",
      "[Rectangle] (89) 4/5 - 2/3\n"
     ]
    }
   ],
   "source": [
    "from models.rectangle import Rectangle\n",
    "\n",
    "if __name__ == \"__main__\":\n",
    "\n",
    "    r1 = Rectangle(10, 10, 10, 10)\n",
    "    print(r1)\n",
    "\n",
    "    r1.update(89)\n",
    "    print(r1)\n",
    "\n",
    "    r1.update(89, 2)\n",
    "    print(r1)\n",
    "\n",
    "    r1.update(89, 2, 3)\n",
    "    print(r1)\n",
    "\n",
    "    r1.update(89, 2, 3, 4)\n",
    "    print(r1)\n",
    "\n",
    "    r1.update(89, 2, 3, 4, 5)\n",
    "    print(r1)"
   ]
  },
  {
   "cell_type": "code",
   "execution_count": null,
   "metadata": {},
   "outputs": [],
   "source": [
    "\"\"\" 8-main \"\"\"\n",
    "from models.rectangle import Rectangle\n",
    "\n",
    "if __name__ == \"__main__\":\n",
    "\n",
    "    r1 = Rectangle(10, 10, 10, 10)\n",
    "    print(r1)\n",
    "\n",
    "    r1.update(height=1)\n",
    "    print(r1)\n",
    "\n",
    "    r1.update(width=1, x=2)\n",
    "    print(r1)\n",
    "\n",
    "    r1.update(y=1, width=2, x=3, id=89)\n",
    "    print(r1)\n",
    "\n",
    "    r1.update(x=1, height=2, y=3, width=4)\n",
    "    print(r1)"
   ]
  }
 ],
 "metadata": {
  "interpreter": {
   "hash": "916dbcbb3f70747c44a77c7bcd40155683ae19c65e1c03b4aa3499c5328201f1"
  },
  "kernelspec": {
   "display_name": "Python 3.8.10 64-bit",
   "name": "python3"
  },
  "language_info": {
   "codemirror_mode": {
    "name": "ipython",
    "version": 3
   },
   "file_extension": ".py",
   "mimetype": "text/x-python",
   "name": "python",
   "nbconvert_exporter": "python",
   "pygments_lexer": "ipython3",
   "version": "3.8.10"
  },
  "orig_nbformat": 4
 },
 "nbformat": 4,
 "nbformat_minor": 2
}
